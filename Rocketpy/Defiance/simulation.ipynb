{
 "cells": [
  {
   "cell_type": "markdown",
   "id": "23161bac",
   "metadata": {},
   "source": [
    "# RocketPy Simulation\n",
    "This notebook was generated using Rocket-Serializer, a RocketPy tool to convert simulation files to RocketPy simulations\n",
    "The notebook was generated using the following parameters file: `Simulation\\parameters.json`\n"
   ]
  },
  {
   "cell_type": "code",
   "execution_count": null,
   "id": "1226376d",
   "metadata": {},
   "outputs": [],
   "source": [
    "%pip install rocketpy<=2.0"
   ]
  },
  {
   "cell_type": "code",
   "execution_count": null,
   "id": "071d8ad6",
   "metadata": {},
   "outputs": [],
   "source": [
    "from rocketpy import (\n",
    "    Environment,\n",
    "    Rocket,\n",
    "    Flight,\n",
    "    TrapezoidalFins,\n",
    "    NoseCone,\n",
    "    Parachute,\n",
    ")\n",
    "import datetime\n",
    "from rocketpy.motors import GenericMotor"
   ]
  },
  {
   "cell_type": "markdown",
   "id": "77082727",
   "metadata": {},
   "source": [
    "## Environment\n"
   ]
  },
  {
   "cell_type": "code",
   "execution_count": null,
   "id": "78aacb53",
   "metadata": {},
   "outputs": [],
   "source": [
    "flight_date = datetime.date(2024, 8, 24)\n",
    "env = Environment(latitude=47.966527, longitude=-81.87413, elevation=1383.4)\n",
    "\n",
    "env.set_date((flight_date.year, flight_date.month, flight_date.day, 12))\n",
    "env.set_atmospheric_model(\"custom_atmosphere\", wind_u=6.9899, wind_v=10.3630)\n",
    "\n",
    "# env.info()"
   ]
  },
  {
   "cell_type": "code",
   "execution_count": null,
   "id": "fa1a1f7c",
   "metadata": {},
   "outputs": [],
   "source": [
    "env.all_info()"
   ]
  },
  {
   "cell_type": "markdown",
   "id": "cb4ca9e4",
   "metadata": {},
   "source": [
    "## Motor\n"
   ]
  },
  {
   "cell_type": "code",
   "execution_count": null,
   "id": "8f02dfa0",
   "metadata": {},
   "outputs": [],
   "source": [
    "motor = GenericMotor(\n",
    "    thrust_source=\"thrust_curve.csv\",\n",
    "    burn_time=11.738,\n",
    "    chamber_radius= 0.067,\n",
    "    chamber_height= 1.79,\n",
    "    chamber_position=3.31,\n",
    "    propellant_initial_mass=17,\n",
    "    nozzle_radius=0.0447,\n",
    "    dry_mass=13.832,\n",
    "    center_of_dry_mass_position=780 / 1000,\n",
    "    dry_inertia=(1.801, 1.801, 0.0305),\n",
    "    coordinate_system_orientation=\"nozzle_to_combustion_chamber\",\n",
    ")"
   ]
  },
  {
   "cell_type": "markdown",
   "id": "86d31831",
   "metadata": {},
   "source": [
    "## Rocket\n"
   ]
  },
  {
   "cell_type": "markdown",
   "id": "b633839a",
   "metadata": {},
   "source": [
    "### Nosecones\n"
   ]
  },
  {
   "cell_type": "code",
   "execution_count": null,
   "id": "961a7550",
   "metadata": {},
   "outputs": [],
   "source": [
    "nosecone = NoseCone(\n",
    "    length=0.5632,\n",
    "    kind=\"Von Karman\",\n",
    "    base_radius=0.06985,\n",
    "    rocket_radius=0.06985,\n",
    "    name=\"0.5632\",\n",
    ")"
   ]
  },
  {
   "cell_type": "markdown",
   "id": "57101a20",
   "metadata": {},
   "source": [
    "### Fins\n"
   ]
  },
  {
   "cell_type": "code",
   "execution_count": null,
   "id": "c29e5ed0",
   "metadata": {},
   "outputs": [],
   "source": [
    "fins = TrapezoidalFins(\n",
    "    n=3,\n",
    "    root_chord=0.40,\n",
    "    tip_chord=0.20,\n",
    "    span=0.115,\n",
    "    rocket_radius=0.06985,\n",
    "    sweep_length=0.10,\n",
    "    )"
   ]
  },
  {
   "cell_type": "markdown",
   "id": "fe6d56f6",
   "metadata": {},
   "source": [
    "### Parachutes\n"
   ]
  },
  {
   "cell_type": "code",
   "execution_count": null,
   "id": "9b7db64b",
   "metadata": {},
   "outputs": [],
   "source": [
    "parachutes = {}"
   ]
  },
  {
   "cell_type": "code",
   "execution_count": null,
   "id": "c7bdc350",
   "metadata": {},
   "outputs": [],
   "source": [
    "parachutes[0] = Parachute(\n",
    "    name=\"Main Parachute\",\n",
    "    cd_s=16.052,\n",
    "    trigger=304.800,\n",
    "    sampling_rate=100,\n",
    ")"
   ]
  },
  {
   "cell_type": "code",
   "execution_count": null,
   "id": "e15a6144",
   "metadata": {},
   "outputs": [],
   "source": [
    "parachutes[1] = Parachute(\n",
    "    name=\"Drogue Parachute\",\n",
    "    cd_s=1.018,\n",
    "    trigger=\"apogee\",\n",
    "    sampling_rate=100,\n",
    ")"
   ]
  },
  {
   "cell_type": "code",
   "execution_count": null,
   "id": "396d9024",
   "metadata": {},
   "outputs": [],
   "source": [
    "rocket = Rocket(\n",
    "    radius=0.06985,\n",
    "    mass=37.213,\n",
    "    inertia=[0.156, 0.156, 97.168],\n",
    "    power_off_drag=\"drag_curve.csv\",\n",
    "    power_on_drag=\"drag_curve.csv\",\n",
    "    center_of_mass_without_motor=2.873,\n",
    "    coordinate_system_orientation=\"nose_to_tail\",\n",
    ")"
   ]
  },
  {
   "cell_type": "markdown",
   "id": "21ee56b3",
   "metadata": {},
   "source": [
    "### Adding surfaces to the rocket\n"
   ]
  },
  {
   "cell_type": "code",
   "execution_count": null,
   "id": "87560850",
   "metadata": {},
   "outputs": [],
   "source": [
    "rocket.add_surfaces(surfaces=[nosecone, fins], positions=[0.0, 4.97])"
   ]
  },
  {
   "cell_type": "code",
   "execution_count": null,
   "id": "3dcc3fb0",
   "metadata": {},
   "outputs": [],
   "source": [
    "rocket.add_motor(motor, position=5.31)"
   ]
  },
  {
   "cell_type": "markdown",
   "id": "dda71479",
   "metadata": {},
   "source": [
    "Adding parachutes to the rocket\n"
   ]
  },
  {
   "cell_type": "code",
   "execution_count": null,
   "id": "a9aa17ed",
   "metadata": {},
   "outputs": [],
   "source": [
    "rocket.parachutes = list(parachutes.values())"
   ]
  },
  {
   "cell_type": "code",
   "execution_count": null,
   "id": "091e2a1b",
   "metadata": {},
   "outputs": [],
   "source": [
    "### Rocket Info\n",
    "rocket.all_info()"
   ]
  },
  {
   "cell_type": "markdown",
   "id": "e35adbca",
   "metadata": {},
   "source": [
    "## Flight\n"
   ]
  },
  {
   "cell_type": "code",
   "execution_count": null,
   "id": "783e9e5c",
   "metadata": {},
   "outputs": [],
   "source": [
    "flight = Flight(\n",
    "    rocket=rocket,\n",
    "    environment=env,\n",
    "    rail_length=9.14,\n",
    "    inclination=85.0,\n",
    "    heading=110.0,\n",
    "    terminate_on_apogee=False,\n",
    "    max_time=600,\n",
    ")"
   ]
  },
  {
   "cell_type": "code",
   "execution_count": null,
   "id": "9f513715",
   "metadata": {},
   "outputs": [],
   "source": [
    "flight.all_info()"
   ]
  },
  {
   "cell_type": "markdown",
   "id": "42df8f5a",
   "metadata": {},
   "source": [
    "## Compare Results\n"
   ]
  },
  {
   "cell_type": "code",
   "execution_count": null,
   "id": "5e83cea4",
   "metadata": {},
   "outputs": [],
   "source": [
    "### OpenRocket vs RocketPy Parameters\n",
    "# time_to_apogee_ork = 44.97\n",
    "# time_to_apogee_rpy = flight.apogee_time\n",
    "# print(f\"Time to apogee (OpenRocket): {time_to_apogee_ork:.3f} s\")\n",
    "# print(f\"Time to apogee (RocketPy):   {time_to_apogee_rpy:.3f} s\")\n",
    "# apogee_difference = time_to_apogee_rpy - time_to_apogee_ork\n",
    "# error = abs((apogee_difference) / time_to_apogee_rpy) * 100\n",
    "# print(f\"Time to apogee difference:   {error:.3f} %\")\n",
    "# print()\n",
    "\n",
    "# flight_time_ork = 405.812\n",
    "# flight_time_rpy = flight.t_final\n",
    "# print(f\"Flight time (OpenRocket): {flight_time_ork:.3f} s\")\n",
    "# print(f\"Flight time (RocketPy):   {flight_time_rpy:.3f} s\")\n",
    "# flight_time_difference = flight_time_rpy - flight_time_ork\n",
    "# error_flight_time = abs((flight_time_difference) / flight_time_rpy) * 100\n",
    "# print(f\"Flight time difference:   {error_flight_time:.3f} %\")\n",
    "# print()\n",
    "\n",
    "# ground_hit_velocity_ork = -5.968\n",
    "# ground_hit_velocity_rpy = flight.impact_velocity\n",
    "# print(f\"Ground hit velocity (OpenRocket): {ground_hit_velocity_ork:.3f} m/s\")\n",
    "# print(f\"Ground hit velocity (RocketPy):   {ground_hit_velocity_rpy:.3f} m/s\")\n",
    "# ground_hit_velocity_difference = ground_hit_velocity_rpy - ground_hit_velocity_ork\n",
    "# error_ground_hit_velocity = (\n",
    "#     abs((ground_hit_velocity_difference) / ground_hit_velocity_rpy) * 100\n",
    "# )\n",
    "# print(f\"Ground hit velocity difference:   {error_ground_hit_velocity:.3f} %\")\n",
    "# print()\n",
    "\n",
    "# launch_rod_velocity_ork = 34.246\n",
    "# launch_rod_velocity_rpy = flight.out_of_rail_velocity\n",
    "# print(f\"Launch rod velocity (OpenRocket): {launch_rod_velocity_ork:.3f} m/s\")\n",
    "# print(f\"Launch rod velocity (RocketPy):   {launch_rod_velocity_rpy:.3f} m/s\")\n",
    "# launch_rod_velocity_difference = launch_rod_velocity_rpy - launch_rod_velocity_ork\n",
    "# error_launch_rod_velocity = (\n",
    "#     abs((launch_rod_velocity_difference) / launch_rod_velocity_rpy) * 100\n",
    "# )\n",
    "# print(f\"Launch rod velocity difference:   {error_launch_rod_velocity:.3f} %\")\n",
    "# print()\n",
    "\n",
    "# max_acceleration_ork = 91.714\n",
    "# max_acceleration_rpy = flight.max_acceleration\n",
    "# print(f\"Max acceleration (OpenRocket): {max_acceleration_ork:.3f} m/s²\")\n",
    "# print(f\"Max acceleration (RocketPy):   {max_acceleration_rpy:.3f} m/s²\")\n",
    "# max_acceleration_difference = max_acceleration_rpy - max_acceleration_ork\n",
    "# error_max_acceleration = abs((max_acceleration_difference) / max_acceleration_rpy) * 100\n",
    "# print(f\"Max acceleration difference:   {error_max_acceleration:.3f} %\")\n",
    "# print()\n",
    "\n",
    "# max_altitude_ork = 10140.0\n",
    "# max_altitude_rpy = flight.apogee - flight.env.elevation\n",
    "# print(f\"Max altitude (OpenRocket): {max_altitude_ork:.3f} m\")\n",
    "# print(f\"Max altitude (RocketPy):   {max_altitude_rpy:.3f} m\")\n",
    "# max_altitude_difference = max_altitude_rpy - max_altitude_ork\n",
    "# error_max_altitude = abs((max_altitude_difference) / max_altitude_rpy) * 100\n",
    "# print(f\"Max altitude difference:   {error_max_altitude:.3f} %\")\n",
    "# print()\n",
    "\n",
    "# max_mach_ork = 1.499\n",
    "# max_mach_rpy = flight.max_mach_number\n",
    "# print(f\"Max Mach (OpenRocket): {max_mach_ork:.3f}\")\n",
    "# print(f\"Max Mach (RocketPy):   {max_mach_rpy:.3f}\")\n",
    "# max_mach_difference = max_mach_rpy - max_mach_ork\n",
    "# error_max_mach = abs((max_mach_difference) / max_mach_rpy) * 100\n",
    "# print(f\"Max Mach difference:   {error_max_mach:.3f} %\")\n",
    "# print()\n",
    "\n",
    "# max_velocity_ork = 489.274\n",
    "# max_velocity_rpy = flight.max_speed\n",
    "# print(f\"Max velocity (OpenRocket): {max_velocity_ork:.3f} m/s\")\n",
    "# print(f\"Max velocity (RocketPy):   {max_velocity_rpy:.3f} m/s\")\n",
    "# max_velocity_difference = max_velocity_rpy - max_velocity_ork\n",
    "# error_max_velocity = abs((max_velocity_difference) / max_velocity_rpy) * 100\n",
    "# print(f\"Max velocity difference:   {error_max_velocity:.3f} %\")\n",
    "# print()\n",
    "\n",
    "# max_thrust_ork = 5972.672\n",
    "# max_thrust_rpy = flight.rocket.motor.thrust.max\n",
    "# print(f\"Max thrust (OpenRocket): {max_thrust_ork:.3f} N\")\n",
    "# print(f\"Max thrust (RocketPy):   {max_thrust_rpy:.3f} N\")\n",
    "# max_thrust_difference = max_thrust_rpy - max_thrust_ork\n",
    "# error_max_thrust = abs((max_thrust_difference) / max_thrust_rpy) * 100\n",
    "# print(f\"Max thrust difference:   {error_max_thrust:.3f} %\")\n",
    "# print()\n",
    "\n",
    "# burnout_stability_margin_ork = 6.29\n",
    "# burnout_stability_margin_rpy = flight.stability_margin(\n",
    "#     flight.rocket.motor.burn_out_time\n",
    "# )\n",
    "# print(f\"Burnout stability margin (OpenRocket): {burnout_stability_margin_ork:.3f}\")\n",
    "# print(f\"Burnout stability margin (RocketPy):   {burnout_stability_margin_rpy:.3f}\")\n",
    "# burnout_stability_margin_difference = (\n",
    "#     burnout_stability_margin_rpy - burnout_stability_margin_ork\n",
    "# )\n",
    "# error_burnout_stability_margin = (\n",
    "#     abs((burnout_stability_margin_difference) / burnout_stability_margin_rpy) * 100\n",
    "# )\n",
    "# print(f\"Burnout stability margin difference:   {error_burnout_stability_margin:.3f} %\")\n",
    "# print()\n",
    "\n",
    "# max_stability_margin_ork = 9.021\n",
    "# max_stability_margin_rpy = flight.max_stability_margin\n",
    "# print(f\"Max stability margin (OpenRocket): {max_stability_margin_ork:.3f}\")\n",
    "# print(f\"Max stability margin (RocketPy):   {max_stability_margin_rpy:.3f}\")\n",
    "# max_stability_margin_difference = max_stability_margin_rpy - max_stability_margin_ork\n",
    "# error_max_stability_margin = (\n",
    "#     abs((max_stability_margin_difference) / max_stability_margin_rpy) * 100\n",
    "# )\n",
    "# print(f\"Max stability margin difference:   {error_max_stability_margin:.3f} %\")\n",
    "# print()\n",
    "\n",
    "# min_stability_margin_ork = 1.038\n",
    "# min_stability_margin_rpy = flight.min_stability_margin\n",
    "# print(f\"Min stability margin (OpenRocket): {min_stability_margin_ork:.3f}\")\n",
    "# print(f\"Min stability margin (RocketPy):   {min_stability_margin_rpy:.3f}\")\n",
    "# min_stability_margin_difference = min_stability_margin_rpy - min_stability_margin_ork\n",
    "# error_min_stability_margin = (\n",
    "#     abs((min_stability_margin_difference) / min_stability_margin_rpy) * 100\n",
    "# )\n",
    "# print(f\"Min stability margin difference:   {error_min_stability_margin:.3f} %\")\n",
    "# print()"
   ]
  },
  {
   "cell_type": "markdown",
   "id": "f201b266",
   "metadata": {},
   "source": [
    "## Monte Carlo Simulation"
   ]
  },
  {
   "cell_type": "code",
   "execution_count": null,
   "id": "61b27f67",
   "metadata": {},
   "outputs": [],
   "source": [
    "from rocketpy.simulation import MonteCarlo\n",
    "from rocketpy.stochastic import (\n",
    "    StochasticEnvironment,\n",
    "    StochasticGenericMotor,\n",
    "    StochasticRocket,\n",
    "    StochasticFlight,\n",
    "    StochasticNoseCone,\n",
    "    StochasticTrapezoidalFins,\n",
    "    StochasticParachute,\n",
    ")\n",
    "\n",
    "\"\"\" All stochastics values can be lists of possible values or have the form of:\n",
    "(nominal value[optional], standard deviation, distribution type[optional])\n",
    "type = “normal”, “binomial”, “chisquare”, “exponential”, “gamma”, “gumbel”, “laplace”, “logistic”, “poisson”, “uniform”, and “wald” \"\"\"\n",
    "\n",
    "stochastic_env = StochasticEnvironment(\n",
    "    environment=env,\n",
    "    # longitude=0.01,\n",
    "    # latitude=0.01,\n",
    ")\n",
    "\n",
    "stochastic_motor = StochasticGenericMotor(\n",
    "    generic_motor=motor\n",
    ")\n",
    "\n",
    "stochastic_rocket = StochasticRocket(\n",
    "    rocket=rocket,\n",
    "    radius=0.01,\n",
    "    mass=3.72,\n",
    "    # inertia_11=0.1,\n",
    "    # inertia_22=0.1,\n",
    "    # inertia_33=0.001,\n",
    "    center_of_mass_without_motor=0.01,\n",
    ")\n",
    "\n",
    "stochastic_nose_cone = StochasticNoseCone(\n",
    "    nosecone=nosecone, length=0.01\n",
    ")\n",
    "\n",
    "stochastic_fin_set = StochasticTrapezoidalFins(\n",
    "    trapezoidal_fins=fins,\n",
    "    root_chord=0.01,\n",
    "    tip_chord=0.01,\n",
    "    span=0.01,\n",
    ")\n",
    "\n",
    "stochastic_main = StochasticParachute(parachute=parachutes[0])\n",
    "\n",
    "stochastic_drogue = StochasticParachute(\n",
    "    parachute=parachutes[1]\n",
    ")\n",
    "\n",
    "stochastic_rocket.add_motor(stochastic_motor, position=0.01)\n",
    "\n",
    "stochastic_rocket.add_nose(stochastic_nose_cone, position=0.01)\n",
    "\n",
    "stochastic_rocket.add_trapezoidal_fins(stochastic_fin_set, position=0.01)\n",
    "\n",
    "stochastic_rocket.add_parachute(stochastic_main)\n",
    "\n",
    "stochastic_rocket.add_parachute(stochastic_drogue)\n",
    "\n",
    "stochastic_flight = StochasticFlight(\n",
    "    flight=flight,\n",
    ")\n",
    "\n",
    "test_dispersion = MonteCarlo(\n",
    "    filename=\"monte_carlos_analysis_results.txt\",\n",
    "    environment=stochastic_env,\n",
    "    rocket=stochastic_rocket,\n",
    "    flight=stochastic_flight,\n",
    ")"
   ]
  },
  {
   "cell_type": "code",
   "execution_count": null,
   "id": "4eef32a6",
   "metadata": {},
   "outputs": [],
   "source": [
    "test_dispersion.simulate(number_of_simulations=10, append=False)"
   ]
  },
  {
   "cell_type": "code",
   "execution_count": null,
   "id": "579928b2",
   "metadata": {},
   "outputs": [],
   "source": [
    "test_dispersion.set_results()"
   ]
  },
  {
   "cell_type": "code",
   "execution_count": null,
   "id": "01b906fd",
   "metadata": {},
   "outputs": [],
   "source": [
    "test_dispersion.set_processed_results()"
   ]
  },
  {
   "cell_type": "code",
   "execution_count": null,
   "id": "f2910fde",
   "metadata": {},
   "outputs": [],
   "source": [
    "test_dispersion.prints.all()"
   ]
  },
  {
   "cell_type": "code",
   "execution_count": null,
   "id": "3fcfd2e6",
   "metadata": {},
   "outputs": [],
   "source": [
    "test_dispersion.plots.all()"
   ]
  },
  {
   "cell_type": "code",
   "execution_count": null,
   "id": "caf3cbc5",
   "metadata": {},
   "outputs": [],
   "source": [
    "test_dispersion.export_ellipses_to_kml(\n",
    "    filename=\"monte_carlo_class_example.kml\",\n",
    "    origin_lon=-77.18899,\n",
    "    origin_lat=42.692624,\n",
    "    type=\"all\",\n",
    ")"
   ]
  }
 ],
 "metadata": {
  "kernelspec": {
   "display_name": "Python 3",
   "language": "python",
   "name": "python3"
  },
  "language_info": {
   "codemirror_mode": {
    "name": "ipython",
    "version": 3
   },
   "file_extension": ".py",
   "mimetype": "text/x-python",
   "name": "python",
   "nbconvert_exporter": "python",
   "pygments_lexer": "ipython3",
   "version": "3.13.2"
  }
 },
 "nbformat": 4,
 "nbformat_minor": 5
}
