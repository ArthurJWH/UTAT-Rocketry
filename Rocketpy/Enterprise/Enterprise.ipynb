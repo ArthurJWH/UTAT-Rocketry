{
 "cells": [
  {
   "cell_type": "code",
   "execution_count": 1,
   "metadata": {},
   "outputs": [],
   "source": [
    "import datetime\n",
    "\n",
    "from rocketpy import Environment\n",
    "\n",
    "env = Environment(latitude=42.692624, longitude=-77.18899, elevation=2333)\n",
    "\n",
    "tomorrow = datetime.date.today() + datetime.timedelta(days=1)\n",
    "\n",
    "env.set_date(\n",
    "    (tomorrow.year, tomorrow.month, tomorrow.day, 12)\n",
    ")  # Hour given in UTC time\n",
    "\n",
    "env.set_atmospheric_model(\n",
    "    type=\"Forecast\", file=\"GFS\"  # \"custom_atmosphere\", wind_v, wind_u\n",
    ")"
   ]
  },
  {
   "cell_type": "code",
   "execution_count": null,
   "metadata": {},
   "outputs": [],
   "source": [
    "env.info()"
   ]
  },
  {
   "cell_type": "code",
   "execution_count": 2,
   "metadata": {},
   "outputs": [],
   "source": [
    "from rocketpy.motors import SolidMotor\n",
    "\n",
    "solid_motor = SolidMotor(\n",
    "    thrust_source=\"Curves/enterprise_thrust.csv\",\n",
    "    dry_mass=4.559,\n",
    "    dry_inertia=(0.0996, 0.0996, 0.00307),\n",
    "    nozzle_radius=0.0397,\n",
    "    grain_number=1,\n",
    "    grain_density=1807,\n",
    "    grain_outer_radius=0.0397,\n",
    "    grain_initial_inner_radius=0.0381,\n",
    "    grain_initial_height=0.508,\n",
    "    grain_separation=0,\n",
    "    grains_center_of_mass_position=0.52,\n",
    "    center_of_dry_mass_position=1.33,\n",
    "    nozzle_position=2.22,\n",
    "    # burn_time=2.764,\n",
    "    throat_radius=0.0397,\n",
    "    coordinate_system_orientation=\"nozzle_to_combustion_chamber\",\n",
    ")"
   ]
  },
  {
   "cell_type": "code",
   "execution_count": null,
   "metadata": {},
   "outputs": [],
   "source": [
    "solid_motor.info()"
   ]
  },
  {
   "cell_type": "code",
   "execution_count": 3,
   "metadata": {},
   "outputs": [],
   "source": [
    "from rocketpy import Rocket\n",
    "\n",
    "rocket = Rocket(\n",
    "    radius=15.7 / 200,\n",
    "    mass=18.2,  # rocket's mass without the motor in kg\n",
    "    inertia=(\n",
    "        7.503,\n",
    "        7.503,\n",
    "        0.05608,\n",
    "    ),  # in relation to the rocket's center of mass without motor\n",
    "    power_off_drag=\"Curves/enterprise_drag.csv\",\n",
    "    power_on_drag=\"Curves/enterprise_drag.csv\",\n",
    "    center_of_mass_without_motor=1.34,\n",
    "    coordinate_system_orientation=\"tail_to_nose\",\n",
    ")"
   ]
  },
  {
   "cell_type": "code",
   "execution_count": null,
   "metadata": {},
   "outputs": [],
   "source": [
    "motor = solid_motor\n",
    "\n",
    "rocket.add_motor(motor, position = 0.012)\n",
    "\n",
    "rail_buttons = rocket.set_rail_buttons(\n",
    "    upper_button_position=0.61,\n",
    "    lower_button_position=0.00,\n",
    "    angular_position=180,\n",
    ")\n",
    "\n",
    "nose_cone = rocket.add_nose(length=0.657, kind=\"von karman\", position=2.22)\n",
    "\n",
    "fin_set = rocket.add_trapezoidal_fins(\n",
    "    n=3,\n",
    "    root_chord=0.41,\n",
    "    tip_chord=0.05,\n",
    "    span=0.165,\n",
    "    cant_angle=0.0,\n",
    "    # airfoil=(\"Airfoils/Airfoil.csv\", \"radians\"),\n",
    "    position=0.45,\n",
    "    sweep_length=0.354,\n",
    "    # sweep_angle=57.9,\n",
    ")\n",
    "\n",
    "tail = rocket.add_tail(\n",
    "    top_radius=0.0785, bottom_radius=0.04635, length=0.0356, position=0.03\n",
    ")\n",
    "\n",
    "main = rocket.add_parachute(\n",
    "    name=\"main\",\n",
    "    cd_s=2.200,\n",
    "    trigger=305,  # ejection altitude in meters\n",
    "    sampling_rate=105,\n",
    "    lag=0,\n",
    "    noise=(0, 8.3, 0.5),\n",
    ")\n",
    "\n",
    "drogue = rocket.add_parachute(\n",
    "    name=\"drogue\",\n",
    "    cd_s=0.800,\n",
    "    trigger=\"apogee\",  # ejection at apogee\n",
    "    sampling_rate=105,\n",
    "    lag=0,\n",
    "    noise=(0, 8.3, 0.5),\n",
    ")"
   ]
  },
  {
   "cell_type": "code",
   "execution_count": null,
   "metadata": {},
   "outputs": [],
   "source": [
    "rocket.info()"
   ]
  },
  {
   "cell_type": "code",
   "execution_count": null,
   "metadata": {},
   "outputs": [],
   "source": [
    "rocket.draw()"
   ]
  },
  {
   "cell_type": "code",
   "execution_count": null,
   "metadata": {},
   "outputs": [],
   "source": [
    "rocket.plots.static_margin()"
   ]
  },
  {
   "cell_type": "code",
   "execution_count": 7,
   "metadata": {},
   "outputs": [],
   "source": [
    "from rocketpy import Flight\n",
    "\n",
    "test_flight = Flight(\n",
    "    rocket=rocket,\n",
    "    environment=env,\n",
    "    rail_length=4,  # metres\n",
    "    inclination=90,  # degrees\n",
    "    heading=0,  # degrees\n",
    ")"
   ]
  },
  {
   "cell_type": "code",
   "execution_count": null,
   "metadata": {},
   "outputs": [],
   "source": [
    "test_flight.info()"
   ]
  },
  {
   "cell_type": "code",
   "execution_count": null,
   "metadata": {},
   "outputs": [],
   "source": [
    "test_flight.export_kml(\"trajectory.kml\")"
   ]
  },
  {
   "cell_type": "code",
   "execution_count": null,
   "metadata": {},
   "outputs": [
    {
     "name": "stderr",
     "output_type": "stream",
     "text": [
      "C:\\Users\\arthu\\AppData\\Local\\Packages\\PythonSoftwareFoundation.Python.3.13_qbz5n2kfra8p0\\LocalCache\\local-packages\\Python313\\site-packages\\rocketpy\\simulation\\monte_carlo.py:133: UserWarning: This class is still under testing and some attributes may be changed in next versions\n",
      "  warnings.warn(\n"
     ]
    }
   ],
   "source": [
    "from rocketpy.simulation import MonteCarlo\n",
    "from rocketpy.stochastic import (\n",
    "    StochasticEnvironment,\n",
    "    StochasticSolidMotor,\n",
    "    StochasticRocket,\n",
    "    StochasticFlight,\n",
    "    StochasticNoseCone,\n",
    "    StochasticTail,\n",
    "    StochasticTrapezoidalFins,\n",
    "    StochasticParachute,\n",
    "    StochasticRailButtons,\n",
    ")\n",
    "\n",
    "\"\"\" All stochastics values can be lists of possible values or have the form of:\n",
    "(nominal value[optional], standard deviation, distribution type[optional])\n",
    "type = “normal”, “binomial”, “chisquare”, “exponential”, “gamma”, “gumbel”, “laplace”, “logistic”, “poisson”, “uniform”, and “wald” \"\"\"\n",
    "\n",
    "stochastic_env = StochasticEnvironment(\n",
    "    environment=env,\n",
    "    longitude=0.01,\n",
    "    latitude=0.01,\n",
    ")\n",
    "\n",
    "stochastic_motor = StochasticSolidMotor(\n",
    "    solid_motor=solid_motor,\n",
    "    burn_start_time=(0, 0.1, \"binomial\"),\n",
    "    total_impulse=100,\n",
    "    nozzle_radius=0.0001,\n",
    "    nozzle_position=0.01,\n",
    ")\n",
    "\n",
    "stochastic_rocket = StochasticRocket(\n",
    "    rocket=rocket,\n",
    "    radius=0.0001,\n",
    "    mass=(0.5, \"normal\"),\n",
    "    inertia_11=0.1,\n",
    "    inertia_22=0.1,\n",
    "    inertia_33=0.001,\n",
    "    center_of_mass_without_motor=0,\n",
    ")\n",
    "\n",
    "stochastic_rail_buttons = StochasticRailButtons(\n",
    "    rail_buttons=rail_buttons, buttons_distance=0.01\n",
    ")\n",
    "\n",
    "stochastic_nose_cone = StochasticNoseCone(\n",
    "    nosecone=nose_cone, length=0.001\n",
    ")\n",
    "\n",
    "stochastic_fin_set = StochasticTrapezoidalFins(\n",
    "    trapezoidal_fins=fin_set,\n",
    "    root_chord=0.01,\n",
    "    tip_chord=0.01,\n",
    "    span=0.001,\n",
    ")\n",
    "\n",
    "stochastic_tail = StochasticTail(\n",
    "    tail=tail, top_radius=0.0001, bottom_radius=0.0001, length=0.0001\n",
    ")\n",
    "\n",
    "stochastic_main = StochasticParachute(parachute=main, cd_s=0.1, lag=0.1)\n",
    "\n",
    "stochastic_drogue = StochasticParachute(\n",
    "    parachute=drogue, cd_s=0.07, lag=0.1\n",
    ")\n",
    "\n",
    "stochastic_rocket.add_motor(stochastic_motor, position=0.001)\n",
    "\n",
    "stochastic_rocket.set_rail_buttons(\n",
    "    stochastic_rail_buttons, lower_button_position=(0.01, \"normal\")\n",
    ")\n",
    "\n",
    "stochastic_rocket.add_nose(stochastic_nose_cone, position=0.01)\n",
    "\n",
    "stochastic_rocket.add_trapezoidal_fins(stochastic_fin_set, position=(0.01, \"normal\"))\n",
    "\n",
    "stochastic_rocket.add_tail(stochastic_tail)\n",
    "\n",
    "stochastic_rocket.add_parachute(stochastic_main)\n",
    "\n",
    "stochastic_rocket.add_parachute(stochastic_drogue)\n",
    "\n",
    "stochastic_flight = StochasticFlight(\n",
    "    flight=test_flight,\n",
    "    inclination=(88, 1),  # mean= 88, std=1\n",
    "    heading=(0, 2),  # mean= 0, std=2\n",
    ")\n",
    "\n",
    "test_dispersion = MonteCarlo(\n",
    "    filename=\"Monte_Carlo_results/monte_carlos_analysis_results\",\n",
    "    environment=stochastic_env,\n",
    "    rocket=stochastic_rocket,\n",
    "    flight=stochastic_flight,\n",
    ")"
   ]
  },
  {
   "cell_type": "code",
   "execution_count": 17,
   "metadata": {},
   "outputs": [
    {
     "name": "stdout",
     "output_type": "stream",
     "text": [
      "Reporting the attributes of the `StochasticEnvironment` object:\n",
      "\n",
      "Constant Attributes:\n",
      "\tdatum                    SIRGAS2000\n",
      "\televation                344.6397705078125\n",
      "\tgravity                  Function from R1 to R1 : (height (m)) → (gravity (m/s²))\n",
      "\ttimezone                 UTC\n",
      "\n",
      "Stochastic Attributes:\n",
      "\tlatitude                 42.69262 ± 0.01000 (normal)\n",
      "\tlongitude                -77.18899 ± 0.01000 (normal)\n",
      "\twind_velocity_x_factor   1.00000 ± 0.00000 (normal)\n",
      "\twind_velocity_y_factor   1.00000 ± 0.00000 (normal)\n"
     ]
    }
   ],
   "source": [
    "stochastic_env.visualize_attributes()"
   ]
  },
  {
   "cell_type": "code",
   "execution_count": 18,
   "metadata": {},
   "outputs": [
    {
     "name": "stdout",
     "output_type": "stream",
     "text": [
      "Reporting the attributes of the `StochasticSolidMotor` object:\n",
      "\n",
      "Constant Attributes:\n",
      "\tburn_out_time                    2.764\n",
      "\tcenter_of_dry_mass_position      1.33\n",
      "\tcoordinate_system_orientation    nozzle_to_combustion_chamber\n",
      "\tdry_I_11                         0.0996\n",
      "\tdry_I_12                         0\n",
      "\tdry_I_13                         0\n",
      "\tdry_I_22                         0.0996\n",
      "\tdry_I_23                         0\n",
      "\tdry_I_33                         0.00307\n",
      "\tdry_mass                         4.559\n",
      "\tgrain_density                    1807\n",
      "\tgrain_initial_height             0.508\n",
      "\tgrain_initial_inner_radius       0.0381\n",
      "\tgrain_number                     1\n",
      "\tgrain_outer_radius               0.0397\n",
      "\tgrain_separation                 0\n",
      "\tgrains_center_of_mass_position   0.52\n",
      "\tinterpolate                      linear\n",
      "\tthroat_radius                    0.0397\n",
      "\tthrust_source                    Curves/enterprise_thrust.csv\n",
      "\n",
      "Stochastic Attributes:\n",
      "\tburn_start_time                  0.00000 ± 0.10000 (binomial)\n",
      "\tnozzle_position                  2.22000 ± 0.00100 (normal)\n",
      "\tnozzle_radius                    0.03970 ± 0.00050 (normal)\n",
      "\ttotal_impulse                    6500.00000 ± 100.00000 (normal)\n"
     ]
    }
   ],
   "source": [
    "stochastic_motor.visualize_attributes()"
   ]
  },
  {
   "cell_type": "code",
   "execution_count": 19,
   "metadata": {},
   "outputs": [
    {
     "name": "stdout",
     "output_type": "stream",
     "text": [
      "Reporting the attributes of the `StochasticRocket` object:\n",
      "\n",
      "Constant Attributes:\n",
      "\tI_12_without_motor              0\n",
      "\tI_13_without_motor              0\n",
      "\tI_23_without_motor              0\n",
      "\tcoordinate_system_orientation   tail_to_nose\n",
      "\tpower_off_drag                  Function from R1 to R1 : (Mach Number) → (Drag Coefficient with Power Off)\n",
      "\tpower_on_drag                   Function from R1 to R1 : (Mach Number) → (Drag Coefficient with Power On)\n",
      "\n",
      "Stochastic Attributes:\n",
      "\tI_11_without_motor              6.32100 ± 0.00000 (normal)\n",
      "\tI_22_without_motor              7.50300 ± 0.01000 (normal)\n",
      "\tI_33_without_motor              0.05608 ± 0.01000 (normal)\n",
      "\tcenter_of_mass_without_motor    1.34000 ± 0.00000 (normal)\n",
      "\tmass                            18.20000 ± 0.50000 (normal)\n",
      "\tpower_off_drag_factor           1.00000 ± 0.00000 (normal)\n",
      "\tpower_on_drag_factor            1.00000 ± 0.00000 (normal)\n",
      "\tradius                          0.07850 ± 0.00001 (normal)\n"
     ]
    }
   ],
   "source": [
    "stochastic_rocket.visualize_attributes()"
   ]
  },
  {
   "cell_type": "code",
   "execution_count": 20,
   "metadata": {},
   "outputs": [
    {
     "name": "stdout",
     "output_type": "stream",
     "text": [
      "Reporting the attributes of the `StochasticFlight` object:\n",
      "\n",
      "Constant Attributes:\n",
      "\trail_length           4\n",
      "\n",
      "Stochastic Attributes:\n",
      "\theading               53.00000 ± 2.00000 (normal)\n",
      "\tinclination           84.70000 ± 1.00000 (normal)\n"
     ]
    }
   ],
   "source": [
    "stochastic_flight.visualize_attributes()"
   ]
  },
  {
   "cell_type": "code",
   "execution_count": 9,
   "metadata": {},
   "outputs": [
    {
     "name": "stdout",
     "output_type": "stream",
     "text": [
      "Completed 10 iterations. Total CPU time: 12.5 s. Total wall time: 13.5 sted time left: 0 s \n",
      "Saving results.   \n",
      "Results saved to Monte_Carlo_results/monte_carlos_analysis_results.outputs.txt\n"
     ]
    }
   ],
   "source": [
    "test_dispersion.simulate(number_of_simulations=10, append=True)"
   ]
  },
  {
   "cell_type": "code",
   "execution_count": 10,
   "metadata": {},
   "outputs": [],
   "source": [
    "test_dispersion.set_results()"
   ]
  },
  {
   "cell_type": "code",
   "execution_count": 11,
   "metadata": {},
   "outputs": [],
   "source": [
    "test_dispersion.set_processed_results()"
   ]
  },
  {
   "cell_type": "code",
   "execution_count": 12,
   "metadata": {},
   "outputs": [
    {
     "name": "stdout",
     "output_type": "stream",
     "text": [
      "Monte Carlo Simulation by RocketPy\n",
      "Data Source:  Monte_Carlo_results/monte_carlos_analysis_results\n",
      "Number of simulations:  10\n",
      "Results: \n",
      "\n",
      "                Parameter            Mean          Median       Std. Dev.    95% PI Lower    95% PI Upper\n",
      "--------------------------------------------------------------------------------------------------------------\n",
      "              apogee_time          21.399          21.431           0.203          21.068          21.737\n",
      "                   apogee        2633.069        2642.332          53.021        2544.640        2714.024\n",
      "     frontal_surface_wind           2.120           2.096           0.127           1.917           2.355\n",
      "out_of_rail_stability_margin           5.727           5.727           0.019           5.698           5.753\n",
      " initial_stability_margin           5.719           5.719           0.019           5.690           5.745\n",
      "                  t_final         138.081         138.686           2.909         132.187         141.389\n",
      "                 y_impact        -606.890        -634.552          67.741        -694.472        -498.594\n",
      "     lateral_surface_wind          -7.317          -7.325           0.037          -7.373          -7.245\n",
      "                 apogee_y         653.900         631.363          50.679         610.624         760.977\n",
      "                 x_impact        1084.537        1058.551          82.724        1007.110        1256.013\n",
      "          max_mach_number           0.765           0.768           0.014           0.740           0.781\n",
      "     out_of_rail_velocity          23.146          23.197           0.230          22.719          23.421\n",
      "         out_of_rail_time           0.242           0.241           0.002           0.239           0.245\n",
      "                 apogee_x        -178.225        -189.656          61.796        -232.822         -44.308\n",
      "          impact_velocity         -12.386         -12.375           0.147         -12.671         -12.180\n"
     ]
    }
   ],
   "source": [
    "test_dispersion.prints.all()"
   ]
  },
  {
   "cell_type": "code",
   "execution_count": null,
   "metadata": {},
   "outputs": [],
   "source": [
    "test_dispersion.plots.all()"
   ]
  },
  {
   "cell_type": "code",
   "execution_count": 16,
   "metadata": {},
   "outputs": [],
   "source": [
    "test_dispersion.export_ellipses_to_kml(\n",
    "    filename=\"Monte_Carlo_results/monte_carlo_class_example.kml\",\n",
    "    origin_lon=-77.18899,\n",
    "    origin_lat=42.692624,\n",
    "    type=\"all\",\n",
    ")"
   ]
  }
 ],
 "metadata": {
  "kernelspec": {
   "display_name": "Python 3",
   "language": "python",
   "name": "python3"
  },
  "language_info": {
   "name": "python",
   "version": "3.13.2"
  }
 },
 "nbformat": 4,
 "nbformat_minor": 2
}
