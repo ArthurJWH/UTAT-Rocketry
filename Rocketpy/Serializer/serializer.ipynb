{
 "cells": [
  {
   "cell_type": "markdown",
   "id": "373321f2",
   "metadata": {},
   "source": [
    "# Rocket Serializer\n",
    "### Java requirement\n",
    "You need Java to be installed on your system to use `rocketserializer`.  \n",
    "Recommended: [Java 17](https://adoptium.net/marketplace/?version=17) fro Adoptium, which is required to run OpenRocket-23.09  \n",
    "\n",
    "### Rocketserializer requirement\n",
    "Pip install `rocketserializer` package with the code below if necessary"
   ]
  },
  {
   "cell_type": "code",
   "execution_count": null,
   "id": "f7b976d6",
   "metadata": {},
   "outputs": [],
   "source": [
    "%pip install rocketserializer;"
   ]
  },
  {
   "cell_type": "markdown",
   "id": "6e0f7aca",
   "metadata": {},
   "source": [
    "### Creating the simulations\n",
    "`filepath` : path to the `.ork` file with at least one simulation saved  \n",
    "`output` : path for the file created; default -> Simulation"
   ]
  },
  {
   "cell_type": "code",
   "execution_count": null,
   "id": "2f4761b3",
   "metadata": {},
   "outputs": [],
   "source": [
    "!ork2notebook --filepath rocket_path.ork --output Simulation --verbose True"
   ]
  }
 ],
 "metadata": {
  "kernelspec": {
   "display_name": "Python 3",
   "language": "python",
   "name": "python3"
  },
  "language_info": {
   "codemirror_mode": {
    "name": "ipython",
    "version": 3
   },
   "file_extension": ".py",
   "mimetype": "text/x-python",
   "name": "python",
   "nbconvert_exporter": "python",
   "pygments_lexer": "ipython3",
   "version": "3.13.2"
  }
 },
 "nbformat": 4,
 "nbformat_minor": 5
}
